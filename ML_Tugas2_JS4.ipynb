{
  "nbformat": 4,
  "nbformat_minor": 0,
  "metadata": {
    "colab": {
      "provenance": [],
      "authorship_tag": "ABX9TyOEHyUqeGcn0HjVWzhj3RPu",
      "include_colab_link": true
    },
    "kernelspec": {
      "name": "python3",
      "display_name": "Python 3"
    },
    "language_info": {
      "name": "python"
    }
  },
  "cells": [
    {
      "cell_type": "markdown",
      "metadata": {
        "id": "view-in-github",
        "colab_type": "text"
      },
      "source": [
        "<a href=\"https://colab.research.google.com/github/anabellatus/machine_learning/blob/main/ML_Tugas2_JS4.ipynb\" target=\"_parent\"><img src=\"https://colab.research.google.com/assets/colab-badge.svg\" alt=\"Open In Colab\"/></a>"
      ]
    },
    {
      "cell_type": "markdown",
      "source": [
        "Tugas Jobsheet 4 Machine learning\n",
        "### Nama : Ana Bellatus Mustaqfiro\n",
        "### NIM : 2241720095\n",
        "### Kelas : TI-3F / 04"
      ],
      "metadata": {
        "id": "qFOvKJVeJXRf"
      }
    },
    {
      "cell_type": "markdown",
      "source": [
        "**Tugas 2**\n",
        "\n",
        "Buatlah model klasifikasi dengan menggunakan SVM berdasarkan data pada Percobaan 5 dengan menggunakan fitur histogram."
      ],
      "metadata": {
        "id": "DXLPRaf6JfD7"
      }
    },
    {
      "cell_type": "markdown",
      "source": [
        "Import library"
      ],
      "metadata": {
        "id": "69X-jbMzLYoU"
      }
    },
    {
      "cell_type": "code",
      "source": [
        "from pathlib import Path\n",
        "import matplotlib.image as mpimg\n",
        "import matplotlib.pyplot as plt\n",
        "from sklearn import svm\n",
        "from sklearn.metrics import classification_report, accuracy_score\n",
        "import cv2\n",
        "import os\n",
        "import random\n",
        "import numpy as np\n",
        "import pandas as pd"
      ],
      "metadata": {
        "id": "ufa10LiuLamR"
      },
      "execution_count": 18,
      "outputs": []
    },
    {
      "cell_type": "code",
      "source": [
        "from google.colab import drive\n",
        "\n",
        "#Accessing my Google Drive\n",
        "drive.mount('/content/drive')"
      ],
      "metadata": {
        "colab": {
          "base_uri": "https://localhost:8080/"
        },
        "id": "0R16kVJeLwDG",
        "outputId": "a2f7deb8-78b6-43d3-8f5d-ea242adcab4a"
      },
      "execution_count": 2,
      "outputs": [
        {
          "output_type": "stream",
          "name": "stdout",
          "text": [
            "Mounted at /content/drive\n"
          ]
        }
      ]
    },
    {
      "cell_type": "code",
      "source": [
        "# Image directories\n",
        "train_dir = \"/content/drive/MyDrive/UniLife/Semester5/ML/Jobsheet4/images/training/\"\n",
        "test_dir = \"/content/drive/MyDrive/UniLife/Semester5/ML/Jobsheet4/images/test/\""
      ],
      "metadata": {
        "id": "_YlOrnMqLxHW"
      },
      "execution_count": 3,
      "outputs": []
    },
    {
      "cell_type": "markdown",
      "source": [
        "Load Data"
      ],
      "metadata": {
        "id": "Hgo6NMUfJ4Xc"
      }
    },
    {
      "cell_type": "code",
      "execution_count": 4,
      "metadata": {
        "id": "GHTJDG3AGwky"
      },
      "outputs": [],
      "source": [
        "def load_dataset(img_dir):\n",
        "    p = Path(img_dir)\n",
        "    dirs = p.glob('*')\n",
        "\n",
        "    img_list = []\n",
        "\n",
        "    for dir in dirs:\n",
        "        label = str(dir).split('/')[-1]\n",
        "        for file in dir.glob('*.jpg'):\n",
        "            img = mpimg.imread(file)\n",
        "\n",
        "            if not img is None:\n",
        "                img_list.append((img, label))\n",
        "\n",
        "    return img_list"
      ]
    },
    {
      "cell_type": "markdown",
      "source": [
        "Standarisasi gambar"
      ],
      "metadata": {
        "id": "LDeSu5YhMiqx"
      }
    },
    {
      "cell_type": "code",
      "source": [
        "def standarized_input(image):\n",
        "    # resize to w: 1100, h:600\n",
        "    std_img = cv2.resize(image, (1100,600))\n",
        "    return std_img"
      ],
      "metadata": {
        "id": "hSZ-AvlfMlen"
      },
      "execution_count": 9,
      "outputs": []
    },
    {
      "cell_type": "markdown",
      "source": [
        "Encoding Label"
      ],
      "metadata": {
        "id": "skxeeUGmMkPK"
      }
    },
    {
      "cell_type": "code",
      "source": [
        "def label_encoder(label):\n",
        "    # Encode the label\n",
        "    # day as 1; night as 0\n",
        "    num_val = 0\n",
        "\n",
        "    if(label == 'day'):\n",
        "        num_val = 1\n",
        "    else : 0\n",
        "\n",
        "    return num_val"
      ],
      "metadata": {
        "id": "eXtq37pnM8gK"
      },
      "execution_count": 10,
      "outputs": []
    },
    {
      "cell_type": "markdown",
      "source": [
        "Pra pengolahan data"
      ],
      "metadata": {
        "id": "IOEC129CNqUa"
      }
    },
    {
      "cell_type": "code",
      "source": [
        "def preprocess(img_list):\n",
        "    std_img_list = []\n",
        "\n",
        "    for item in img_list:\n",
        "        image = item[0]\n",
        "        label = item[1]\n",
        "\n",
        "        # Standarized the image\n",
        "        std_img = standarized_input(image)\n",
        "\n",
        "        # Create the label\n",
        "        img_label = label_encoder(label)\n",
        "\n",
        "        std_img_list.append((std_img, img_label))\n",
        "\n",
        "    return std_img_list"
      ],
      "metadata": {
        "id": "tLN7he-HNixi"
      },
      "execution_count": 11,
      "outputs": []
    },
    {
      "cell_type": "markdown",
      "source": [
        "Ekstraksi histrogram"
      ],
      "metadata": {
        "id": "673ImG-9Nuhb"
      }
    },
    {
      "cell_type": "code",
      "source": [
        "def histogram_extract(image_path, bins=(8, 8, 8)):\n",
        "    image = cv2.imread(image_path)\n",
        "    hsv = cv2.cvtColor(image, cv2.COLOR_BGR2HSV)\n",
        "    hist = cv2.calcHist([hsv], [0, 1, 2], None, bins, [0, 180, 0, 256, 0, 256])\n",
        "    cv2.normalize(hist, hist)\n",
        "    return hist.flatten()"
      ],
      "metadata": {
        "id": "6_36alG2Ny6C"
      },
      "execution_count": 12,
      "outputs": []
    },
    {
      "cell_type": "markdown",
      "source": [
        "Load data dan label"
      ],
      "metadata": {
        "id": "S-piTJg3OHwR"
      }
    },
    {
      "cell_type": "code",
      "source": [
        "def load_data(dir):\n",
        "    data = []\n",
        "    labels = []\n",
        "\n",
        "    for label in [\"day\", \"night\"]:\n",
        "        path = os.path.join(dir, label)\n",
        "        for img_file in os.listdir(path):\n",
        "            img_path = os.path.join(path, img_file)\n",
        "            hist = histogram_extract(img_path)\n",
        "            data.append(hist)\n",
        "            labels.append(0 if label == \"day\" else 1)\n",
        "\n",
        "    return np.array(data), np.array(labels)"
      ],
      "metadata": {
        "id": "B_ZAWa9zOJiL"
      },
      "execution_count": 15,
      "outputs": []
    },
    {
      "cell_type": "markdown",
      "source": [
        "Load data training dan datda test"
      ],
      "metadata": {
        "id": "aQMq3JUtOhGq"
      }
    },
    {
      "cell_type": "code",
      "source": [
        "train_data, train_labels = load_data(train_dir)\n",
        "test_data, test_labels = load_data(test_dir)"
      ],
      "metadata": {
        "id": "lVZ4rZoCOjUq"
      },
      "execution_count": 16,
      "outputs": []
    },
    {
      "cell_type": "markdown",
      "source": [
        "Klasifikasi"
      ],
      "metadata": {
        "id": "3w16ZZ_FOnWK"
      }
    },
    {
      "cell_type": "code",
      "source": [
        "model = svm.SVC(kernel='linear')\n",
        "\n",
        "model.fit(train_data, train_labels)\n",
        "\n",
        "predictions = model.predict(test_data)\n",
        "\n",
        "accuracy = accuracy_score(test_labels, predictions)\n",
        "report = classification_report(test_labels, predictions, target_names=[\"Day\", \"Night\"])\n",
        "\n",
        "print(f\"Accuracy: {accuracy * 100:.2f}%\")\n",
        "print(\"Classification Report:\")\n",
        "print(report)"
      ],
      "metadata": {
        "colab": {
          "base_uri": "https://localhost:8080/"
        },
        "id": "zTO1A8P8Oo0_",
        "outputId": "a5fd6e1a-5491-44e9-cecd-3c54545cbc37"
      },
      "execution_count": 19,
      "outputs": [
        {
          "output_type": "stream",
          "name": "stdout",
          "text": [
            "Accuracy: 97.50%\n",
            "Classification Report:\n",
            "              precision    recall  f1-score   support\n",
            "\n",
            "         Day       0.99      0.96      0.97        80\n",
            "       Night       0.96      0.99      0.98        80\n",
            "\n",
            "    accuracy                           0.97       160\n",
            "   macro avg       0.98      0.98      0.97       160\n",
            "weighted avg       0.98      0.97      0.97       160\n",
            "\n"
          ]
        }
      ]
    }
  ]
}