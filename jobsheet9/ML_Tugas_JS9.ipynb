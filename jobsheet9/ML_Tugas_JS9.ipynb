{
  "nbformat": 4,
  "nbformat_minor": 0,
  "metadata": {
    "colab": {
      "provenance": [],
      "authorship_tag": "ABX9TyMNec+3lXaDeaatOCOWu0Hv",
      "include_colab_link": true
    },
    "kernelspec": {
      "name": "python3",
      "display_name": "Python 3"
    },
    "language_info": {
      "name": "python"
    }
  },
  "cells": [
    {
      "cell_type": "markdown",
      "metadata": {
        "id": "view-in-github",
        "colab_type": "text"
      },
      "source": [
        "<a href=\"https://colab.research.google.com/github/anabellatus/machine_learning/blob/main/ML_Tugas_JS9.ipynb\" target=\"_parent\"><img src=\"https://colab.research.google.com/assets/colab-badge.svg\" alt=\"Open In Colab\"/></a>"
      ]
    },
    {
      "cell_type": "markdown",
      "source": [
        "Tugas Jobsheet 9 Machine learning\n",
        "\n",
        "### Nama : Ana Bellatus Mustaqfiro\n",
        "### NIM : 2241720095\n",
        "### Kelas : TI-3F / 04"
      ],
      "metadata": {
        "id": "9UyzzGQcacG3"
      }
    },
    {
      "cell_type": "markdown",
      "source": [
        "## Tugas"
      ],
      "metadata": {
        "id": "HxihF7liaiHW"
      }
    },
    {
      "cell_type": "markdown",
      "source": [
        "*   Lakukan klasifikasi pada data MNIST dengan menggunakan model ANN\n",
        "*   Anda diperbolehkan melakukan eksplorasi terhadap,\n",
        "  -   Metode pra pengolahan\n",
        "  -   Pemilihan fitur\n",
        "  -   Arsitektur ANN\n",
        "  -   Fungsi Aktiviasi\n",
        "*  ANN diimplementasikan dengan menggunakan tensorflow\n",
        "*  **DIKERJAKAN SECARA BERKELOMPOK**\n",
        "*  **JELASKAN HASIL YANG ANDA DAPATKAN,**\n",
        "  **- AKURASI**\n",
        "  **- CONFUSION MATRIX**\n",
        "  **- KONFIGURASI MODEL -> MULAI DARI PRA PENGOLAHAN SAMPAI ARSITEKTUR ANN**\n",
        "\n",
        "\n",
        "\n"
      ],
      "metadata": {
        "id": "zRtEpoR_TwD3"
      }
    },
    {
      "cell_type": "markdown",
      "source": [
        "### Pra Pengolahan Data"
      ],
      "metadata": {
        "id": "YB9bLM2TU0ai"
      }
    },
    {
      "cell_type": "markdown",
      "source": [
        "Import Library"
      ],
      "metadata": {
        "id": "zPT3WqWoVGol"
      }
    },
    {
      "cell_type": "code",
      "source": [
        "import numpy as np\n",
        "import matplotlib.pyplot as plt\n",
        "import seaborn as sns\n",
        "import tensorflow as tf\n",
        "# from sklearn.decomposition import PCA\n",
        "from sklearn.preprocessing import StandardScaler\n",
        "from sklearn.model_selection import train_test_split\n",
        "from sklearn.metrics import confusion_matrix, accuracy_score\n",
        "from tensorflow.keras.datasets import mnist"
      ],
      "metadata": {
        "id": "gf7ZUJg8VnfO"
      },
      "execution_count": 2,
      "outputs": []
    },
    {
      "cell_type": "markdown",
      "source": [
        "Load Data"
      ],
      "metadata": {
        "id": "yGkr7jEzVwbG"
      }
    },
    {
      "cell_type": "code",
      "source": [
        "(x_train, y_train), (x_test, y_test) = mnist.load_data()"
      ],
      "metadata": {
        "colab": {
          "base_uri": "https://localhost:8080/"
        },
        "id": "VqsMVtcRVyN6",
        "outputId": "96835e1c-51a7-46f0-f3da-43a81c464598"
      },
      "execution_count": 3,
      "outputs": [
        {
          "output_type": "stream",
          "name": "stdout",
          "text": [
            "Downloading data from https://storage.googleapis.com/tensorflow/tf-keras-datasets/mnist.npz\n",
            "\u001b[1m11490434/11490434\u001b[0m \u001b[32m━━━━━━━━━━━━━━━━━━━━\u001b[0m\u001b[37m\u001b[0m \u001b[1m0s\u001b[0m 0us/step\n"
          ]
        }
      ]
    },
    {
      "cell_type": "markdown",
      "source": [
        "Pengecekan Data MINST"
      ],
      "metadata": {
        "id": "llZat-2GWErD"
      }
    },
    {
      "cell_type": "code",
      "source": [
        "# Menghitung jumlah keseluruhan data\n",
        "total_data = len(y_train)\n",
        "print (f\"Jumlah data keseluruhan: {total_data}\")\n",
        "\n",
        "# Menghitung jumlah data MNIST pada setiap label\n",
        "label_counts = np.bincount(y_train)\n",
        "for label, count in enumerate(label_counts):\n",
        "  print(f\"Jumlah data dengan label {label}: {count}\")\n",
        "\n",
        "# Menampilkan dimensi data\n",
        "data_shape = x_train[0].shape\n",
        "print (f\"Dimensi data: {data_shape}\")\n",
        "\n",
        "# Menampilkan data\n",
        "plt.figure(figsize=(10, 5))\n",
        "for i in range(9):\n",
        "    plt.subplot(3, 3, i + 1)\n",
        "    plt.imshow(x_train[i], cmap='gray')\n",
        "    plt.title(f'Label: {np.argmax(y_train[i])}')\n",
        "    plt.axis('off')\n",
        "plt.show()"
      ],
      "metadata": {
        "colab": {
          "base_uri": "https://localhost:8080/",
          "height": 665
        },
        "id": "8uo1myFJWVuh",
        "outputId": "1fe528fa-28da-4c9f-f8c4-34869da176a0"
      },
      "execution_count": 13,
      "outputs": [
        {
          "output_type": "stream",
          "name": "stdout",
          "text": [
            "Jumlah data keseluruhan: 60000\n",
            "Jumlah data dengan label 0: 5923\n",
            "Jumlah data dengan label 1: 6742\n",
            "Jumlah data dengan label 2: 5958\n",
            "Jumlah data dengan label 3: 6131\n",
            "Jumlah data dengan label 4: 5842\n",
            "Jumlah data dengan label 5: 5421\n",
            "Jumlah data dengan label 6: 5918\n",
            "Jumlah data dengan label 7: 6265\n",
            "Jumlah data dengan label 8: 5851\n",
            "Jumlah data dengan label 9: 5949\n",
            "Dimensi data: (28, 28)\n"
          ]
        },
        {
          "output_type": "display_data",
          "data": {
            "text/plain": [
              "<Figure size 1000x500 with 9 Axes>"
            ],
            "image/png": "[encoded data removed]"
          },
          "metadata": {}
        }
      ]
    },
    {
      "cell_type": "markdown",
      "source": [
        "Normaliasasi Data"
      ],
      "metadata": {
        "id": "Zal9bph_XjEi"
      }
    },
    {
      "cell_type": "code",
      "source": [
        "x_train = x_train / 255.0\n",
        "x_test = x_test / 255.0"
      ],
      "metadata": {
        "id": "GDN2nDEGXqWn"
      },
      "execution_count": 14,
      "outputs": []
    },
    {
      "cell_type": "markdown",
      "source": [
        "Mengubah Bentuk Data"
      ],
      "metadata": {
        "id": "jopBE0e5XxwA"
      }
    },
    {
      "cell_type": "code",
      "source": [
        "x_train = x_train.reshape(-1, 28*28)\n",
        "x_test = x_test.reshape(-1, 28*28)"
      ],
      "metadata": {
        "id": "Rt9IBc67Xn4j"
      },
      "execution_count": 15,
      "outputs": []
    },
    {
      "cell_type": "markdown",
      "source": [
        "Split Data"
      ],
      "metadata": {
        "id": "OAeiotsCYBWx"
      }
    },
    {
      "cell_type": "code",
      "source": [
        "X_train, X_val, y_train, y_val = train_test_split(x_train, y_train, test_size=0.2, random_state=42)"
      ],
      "metadata": {
        "id": "YFGuZ5g6YAMb"
      },
      "execution_count": 16,
      "outputs": []
    },
    {
      "cell_type": "markdown",
      "source": [
        "### Membuat Model ANN"
      ],
      "metadata": {
        "id": "QSX5zigeYbyz"
      }
    },
    {
      "cell_type": "markdown",
      "source": [
        "Inisiasi Model ANN"
      ],
      "metadata": {
        "id": "47cbYSjGYeEd"
      }
    },
    {
      "cell_type": "code",
      "source": [
        "ann = tf.keras.models.Sequential()"
      ],
      "metadata": {
        "id": "VEkViTB0Yf7o"
      },
      "execution_count": 17,
      "outputs": []
    },
    {
      "cell_type": "markdown",
      "source": [
        "Membuat Input Layer dan Hidden Layer Pertama"
      ],
      "metadata": {
        "id": "1tv8fWtPYkSw"
      }
    },
    {
      "cell_type": "code",
      "source": [
        "ann.add(tf.keras.layers.Dense(units=128, activation='relu'))"
      ],
      "metadata": {
        "id": "pO__i1JhYnwI"
      },
      "execution_count": 18,
      "outputs": []
    },
    {
      "cell_type": "markdown",
      "source": [
        "Membuat Hidden Layer Kedua"
      ],
      "metadata": {
        "id": "uM6r3ZAiYwKY"
      }
    },
    {
      "cell_type": "code",
      "source": [
        "ann.add(tf.keras.layers.Dense(units=64, activation='relu'))"
      ],
      "metadata": {
        "id": "Pg0UOeDxYydS"
      },
      "execution_count": 19,
      "outputs": []
    },
    {
      "cell_type": "markdown",
      "source": [
        "Membuat Output Layer"
      ],
      "metadata": {
        "id": "mUVaPN-aY266"
      }
    },
    {
      "cell_type": "code",
      "source": [
        "ann.add(tf.keras.layers.Dense(units=10, activation='softmax'))"
      ],
      "metadata": {
        "id": "DCNz6XEgY5wC"
      },
      "execution_count": 20,
      "outputs": []
    },
    {
      "cell_type": "markdown",
      "source": [
        "### Train Model"
      ],
      "metadata": {
        "id": "w3WT2T9ZZBuz"
      }
    },
    {
      "cell_type": "markdown",
      "source": [
        "Compile Model ANN"
      ],
      "metadata": {
        "id": "eGsjt-ucZFC5"
      }
    },
    {
      "cell_type": "code",
      "source": [
        "ann.compile(optimizer='adam', loss='sparse_categorical_crossentropy', metrics=['accuracy'], run_eagerly=True)"
      ],
      "metadata": {
        "id": "vAcfklOmZG8L"
      },
      "execution_count": 21,
      "outputs": []
    },
    {
      "cell_type": "markdown",
      "source": [
        "Fitting Model"
      ],
      "metadata": {
        "id": "EFz5c9r3ZPou"
      }
    },
    {
      "cell_type": "code",
      "source": [
        "ann.fit(X_train, y_train, batch_size=256, epochs=10, shuffle=True)"
      ],
      "metadata": {
        "colab": {
          "base_uri": "https://localhost:8080/"
        },
        "id": "HquKQy8JZQ-G",
        "outputId": "7f2f099b-33e0-4f4c-8096-bc614f384810"
      },
      "execution_count": 22,
      "outputs": [
        {
          "output_type": "stream",
          "name": "stdout",
          "text": [
            "Epoch 1/10\n",
            "\u001b[1m188/188\u001b[0m \u001b[32m━━━━━━━━━━━━━━━━━━━━\u001b[0m\u001b[37m\u001b[0m \u001b[1m10s\u001b[0m 53ms/step - accuracy: 0.7695 - loss: 0.8408\n",
            "Epoch 2/10\n",
            "\u001b[1m188/188\u001b[0m \u001b[32m━━━━━━━━━━━━━━━━━━━━\u001b[0m\u001b[37m\u001b[0m \u001b[1m9s\u001b[0m 50ms/step - accuracy: 0.9412 - loss: 0.1984\n",
            "Epoch 3/10\n",
            "\u001b[1m188/188\u001b[0m \u001b[32m━━━━━━━━━━━━━━━━━━━━\u001b[0m\u001b[37m\u001b[0m \u001b[1m12s\u001b[0m 65ms/step - accuracy: 0.9582 - loss: 0.1424\n",
            "Epoch 4/10\n",
            "\u001b[1m188/188\u001b[0m \u001b[32m━━━━━━━━━━━━━━━━━━━━\u001b[0m\u001b[37m\u001b[0m \u001b[1m26s\u001b[0m 93ms/step - accuracy: 0.9670 - loss: 0.1068\n",
            "Epoch 5/10\n",
            "\u001b[1m188/188\u001b[0m \u001b[32m━━━━━━━━━━━━━━━━━━━━\u001b[0m\u001b[37m\u001b[0m \u001b[1m14s\u001b[0m 74ms/step - accuracy: 0.9765 - loss: 0.0823\n",
            "Epoch 6/10\n",
            "\u001b[1m188/188\u001b[0m \u001b[32m━━━━━━━━━━━━━━━━━━━━\u001b[0m\u001b[37m\u001b[0m \u001b[1m19s\u001b[0m 69ms/step - accuracy: 0.9786 - loss: 0.0716\n",
            "Epoch 7/10\n",
            "\u001b[1m188/188\u001b[0m \u001b[32m━━━━━━━━━━━━━━━━━━━━\u001b[0m\u001b[37m\u001b[0m \u001b[1m21s\u001b[0m 69ms/step - accuracy: 0.9835 - loss: 0.0573\n",
            "Epoch 8/10\n",
            "\u001b[1m188/188\u001b[0m \u001b[32m━━━━━━━━━━━━━━━━━━━━\u001b[0m\u001b[37m\u001b[0m \u001b[1m10s\u001b[0m 53ms/step - accuracy: 0.9876 - loss: 0.0471\n",
            "Epoch 9/10\n",
            "\u001b[1m188/188\u001b[0m \u001b[32m━━━━━━━━━━━━━━━━━━━━\u001b[0m\u001b[37m\u001b[0m \u001b[1m13s\u001b[0m 67ms/step - accuracy: 0.9896 - loss: 0.0382\n",
            "Epoch 10/10\n",
            "\u001b[1m188/188\u001b[0m \u001b[32m━━━━━━━━━━━━━━━━━━━━\u001b[0m\u001b[37m\u001b[0m \u001b[1m10s\u001b[0m 55ms/step - accuracy: 0.9899 - loss: 0.0336\n"
          ]
        },
        {
          "output_type": "execute_result",
          "data": {
            "text/plain": [
              "<keras.src.callbacks.history.History at 0x7b699ff3ca30>"
            ]
          },
          "metadata": {},
          "execution_count": 22
        }
      ]
    },
    {
      "cell_type": "code",
      "source": [
        "test_loss, test_accuracy = ann.evaluate(x_test, y_test, verbose=2)\n",
        "print(f'Test Accuracy: {test_accuracy}')\n",
        "\n",
        "y_pred = np.argmax(ann.predict(x_test), axis=-1)\n",
        "\n",
        "cm = confusion_matrix(y_test, y_pred)\n",
        "print(f'Confusion Matrix:\\n{cm}')"
      ],
      "metadata": {
        "colab": {
          "base_uri": "https://localhost:8080/"
        },
        "id": "VHEyErG9ZiNM",
        "outputId": "e7655265-1d0c-40ca-f3ca-0eee4d476ee9"
      },
      "execution_count": 23,
      "outputs": [
        {
          "output_type": "stream",
          "name": "stdout",
          "text": [
            "313/313 - 4s - 14ms/step - accuracy: 0.9738 - loss: 0.0859\n",
            "Test Accuracy: 0.973800003528595\n",
            "\u001b[1m313/313\u001b[0m \u001b[32m━━━━━━━━━━━━━━━━━━━━\u001b[0m\u001b[37m\u001b[0m \u001b[1m2s\u001b[0m 5ms/step\n",
            "Confusion Matrix:\n",
            "[[ 966    2    2    1    0    0    4    1    1    3]\n",
            " [   0 1125    4    0    0    1    2    1    2    0]\n",
            " [   4    2 1009    4    1    0    0   10    1    1]\n",
            " [   0    0    4  991    0    2    0    6    3    4]\n",
            " [   2    0    3    0  958    0    2    3    1   13]\n",
            " [   3    2    0   17    2  852    5    2    5    4]\n",
            " [   4    3    3    1    4    5  933    1    4    0]\n",
            " [   0    9    6    1    1    0    0 1005    1    5]\n",
            " [   4    3    8   13    5    4    1   10  922    4]\n",
            " [   2    6    0    5   10    1    0    8    0  977]]\n"
          ]
        }
      ]
    },
    {
      "cell_type": "markdown",
      "source": [
        "Visualisasi Confussion Matrix dalam Heatmap"
      ],
      "metadata": {
        "id": "g1eaIeO3aFOi"
      }
    },
    {
      "cell_type": "code",
      "source": [
        "accuracy = accuracy_score(y_test, y_pred)\n",
        "print(f'Akurasi: {accuracy}')\n",
        "\n",
        "conf_matrix = confusion_matrix(y_test, y_pred)\n",
        "plt.figure(figsize=(10, 7))\n",
        "sns.heatmap(conf_matrix, annot=True, fmt='d', cmap='Blues', xticklabels=range(10), yticklabels=range(10))\n",
        "plt.xlabel('Prediksi')\n",
        "plt.ylabel('Aktual')\n",
        "plt.title('Confusion Matrix')"
      ],
      "metadata": {
        "colab": {
          "base_uri": "https://localhost:8080/",
          "height": 672
        },
        "id": "pqhYXypwajAf",
        "outputId": "bf522f45-b04c-41f6-9026-b74729d2731e"
      },
      "execution_count": 25,
      "outputs": [
        {
          "output_type": "stream",
          "name": "stdout",
          "text": [
            "Akurasi: 0.9738\n"
          ]
        },
        {
          "output_type": "execute_result",
          "data": {
            "text/plain": [
              "Text(0.5, 1.0, 'Confusion Matrix')"
            ]
          },
          "metadata": {},
          "execution_count": 25
        },
        {
          "output_type": "display_data",
          "data": {
            "text/plain": [
              "<Figure size 1000x700 with 2 Axes>"
            ],
            "image/png": "[encoded data removed]"
          },
          "metadata": {}
        }
      ]
    },
    {
      "cell_type": "markdown",
      "source": [
        "Visualisasi Hasil Prediksi"
      ],
      "metadata": {
        "id": "smAS9CxTamBR"
      }
    },
    {
      "cell_type": "code",
      "source": [
        "random_indices = np.random.choice(x_test.shape[0], 10, replace=False)\n",
        "\n",
        "original_images = x_test[random_indices].reshape(-1, 28, 28)\n",
        "true_labels = y_test[random_indices]\n",
        "predictions = ann.predict(x_test)\n",
        "predicted_labels = np.argmax(predictions, axis=-1)\n",
        "\n",
        "plt.figure(figsize=(12, 8))\n",
        "for i in range(10):\n",
        "    plt.subplot(2, 5, i + 1)\n",
        "    plt.imshow(original_images[i], cmap='gray')\n",
        "    plt.title(f'True Label: {true_labels[i]}\\nPrediksi: {predicted_labels[random_indices[i]]}')\n",
        "    plt.axis('off')\n",
        "\n",
        "plt.show()"
      ],
      "metadata": {
        "colab": {
          "base_uri": "https://localhost:8080/",
          "height": 498
        },
        "id": "B_3GBFgBapDh",
        "outputId": "6f95f87e-9f10-4a13-ff33-070e08182d81"
      },
      "execution_count": 26,
      "outputs": [
        {
          "output_type": "stream",
          "name": "stdout",
          "text": [
            "\u001b[1m313/313\u001b[0m \u001b[32m━━━━━━━━━━━━━━━━━━━━\u001b[0m\u001b[37m\u001b[0m \u001b[1m2s\u001b[0m 7ms/step\n"
          ]
        },
        {
          "output_type": "display_data",
          "data": {
            "text/plain": [
              "<Figure size 1200x800 with 10 Axes>"
            ],
            "image/png": "[encoded data removed]"
          },
          "metadata": {}
        }
      ]
    }
  ]
}